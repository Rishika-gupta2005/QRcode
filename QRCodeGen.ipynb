{
  "cells": [
    {
      "cell_type": "markdown",
      "metadata": {
        "colab_type": "text",
        "id": "view-in-github"
      },
      "source": [
        "<a href=\"https://colab.research.google.com/github/Raghavgarg12/Python-Projects/blob/main/QR%20Code%20generator/QRCodeGen.ipynb\" target=\"_parent\"><img src=\"https://colab.research.google.com/assets/colab-badge.svg\" alt=\"Open In Colab\"/></a>"
      ]
    },
    {
      "cell_type": "code",
      "execution_count": null,
      "metadata": {
        "id": "GV3tYINlbjYx"
      },
      "outputs": [],
      "source": [
        "!pip install pyqrcode pypng"
      ]
    },
    {
      "cell_type": "code",
      "execution_count": null,
      "metadata": {
        "id": "M9SkWl8Mblkl"
      },
      "outputs": [],
      "source": [
        "import pyqrcode\n",
        "\n",
        "# Define the data:\n",
        "# We need some text that we want to convert as our QR Code. \n",
        "# Since I am creating the QR Code for my github profile, \n",
        "# I will \"https://github.com/milaan9\" as data here. Let's store inside a variable.\n",
        "data = \"https://thapar.edu\"\n",
        "\n",
        "# Create qrcode:\n",
        "# Now that we have the data with us, we can move forward and \n",
        "# make use of the package we just imported. Let's create an variable.\n",
        "# We will use the create method (as it results in a cleaner looking code) on data.\n",
        "qr = pyqrcode.create(data)\n",
        "\n",
        "# Save the qrcode in png format with proper scaling:\n",
        "# Now let's store it in .png format with proper scaling.\n",
        "qr.png(\"githubID.png\", scale= 5)"
      ]
    }
  ],
  "metadata": {
    "colab": {
      "authorship_tag": "ABX9TyNVztW+0ty7YVefjs65vBVC",
      "include_colab_link": true,
      "provenance": []
    },
    "kernelspec": {
      "display_name": "Python 3",
      "name": "python3"
    },
    "language_info": {
      "name": "python"
    }
  },
  "nbformat": 4,
  "nbformat_minor": 0
}
